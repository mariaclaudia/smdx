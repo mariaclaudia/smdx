{
 "cells": [
  {
   "cell_type": "markdown",
   "metadata": {},
   "source": [
    "# European central bank"
   ]
  },
  {
   "cell_type": "markdown",
   "metadata": {},
   "source": [
    "### Instantiate pandasdmx.api.Request\n",
    "\n",
    "It's possible to configure cache, proxy..."
   ]
  },
  {
   "cell_type": "code",
   "execution_count": 1,
   "metadata": {},
   "outputs": [],
   "source": [
    "from pandasdmx import Request \n",
    "ecb = Request('ECB')"
   ]
  },
  {
   "cell_type": "markdown",
   "metadata": {},
   "source": [
    "### Obtaining and exploring metadata about datasets\n",
    "\n",
    "Assume we are looking for time-series on exchange rates. Our best guess is that the European Central Bank provides a relevant dataflow. We could google for the dataflow ID or browse the ECB’s website. However, we choose to use SDMX metadata to get a complete overview of the dataflows the ECB provides.\n",
    "\n",
    "SDMX allows to download a list of dataflow definitions for all dataflows provided by a given data provider. Note that the terms ‘dataflow’ and ‘dataflow definition’ are used synonymously."
   ]
  },
  {
   "cell_type": "code",
   "execution_count": 5,
   "metadata": {},
   "outputs": [],
   "source": [
    "flow_response = ecb.dataflow()"
   ]
  },
  {
   "cell_type": "code",
   "execution_count": 7,
   "metadata": {},
   "outputs": [
    {
     "data": {
      "text/plain": [
       "['__class__',\n",
       " '__delattr__',\n",
       " '__dict__',\n",
       " '__dir__',\n",
       " '__doc__',\n",
       " '__eq__',\n",
       " '__format__',\n",
       " '__ge__',\n",
       " '__getattribute__',\n",
       " '__gt__',\n",
       " '__hash__',\n",
       " '__init__',\n",
       " '__le__',\n",
       " '__lt__',\n",
       " '__module__',\n",
       " '__ne__',\n",
       " '__new__',\n",
       " '__reduce__',\n",
       " '__reduce_ex__',\n",
       " '__repr__',\n",
       " '__setattr__',\n",
       " '__sizeof__',\n",
       " '__str__',\n",
       " '__subclasshook__',\n",
       " '__weakref__',\n",
       " '_attr_codes',\n",
       " '_attr_ids',\n",
       " '_constrainables',\n",
       " '_constrained_codes',\n",
       " '_content_types',\n",
       " '_dim_codes',\n",
       " '_dim_ids',\n",
       " '_elem',\n",
       " '_in_codes',\n",
       " '_in_constraints',\n",
       " '_reader',\n",
       " 'dataflow',\n",
       " 'header']"
      ]
     },
     "execution_count": 7,
     "metadata": {},
     "output_type": "execute_result"
    }
   ],
   "source": [
    "dir(flow_response.msg)"
   ]
  },
  {
   "cell_type": "code",
   "execution_count": 8,
   "metadata": {},
   "outputs": [
    {
     "data": {
      "text/plain": [
       "'http://sdw-wsrest.ecb.int/service/dataflow/ECB/latest'"
      ]
     },
     "execution_count": 8,
     "metadata": {},
     "output_type": "execute_result"
    }
   ],
   "source": [
    "flow_response.url"
   ]
  },
  {
   "cell_type": "code",
   "execution_count": 9,
   "metadata": {},
   "outputs": [
    {
     "data": {
      "text/plain": [
       "{'Content-Encoding': 'gzip', 'Cache-Control': 'no-cache, no-store, max-age=0', 'Vary': 'accept-encoding, accept, origin', 'X-CDN': '1', 'Server': 'myracloud', 'Content-Type': 'application/vnd.sdmx.structure+xml; version=2.1', 'ETag': '\"myra-3913907a\"', 'Transfer-Encoding': 'chunked', 'Connection': 'keep-alive', 'Date': 'Fri, 14 Dec 2018 15:17:00 GMT'}"
      ]
     },
     "execution_count": 9,
     "metadata": {},
     "output_type": "execute_result"
    }
   ],
   "source": [
    "flow_response.http_headers"
   ]
  },
  {
   "cell_type": "code",
   "execution_count": 10,
   "metadata": {},
   "outputs": [],
   "source": [
    "flow_response?"
   ]
  },
  {
   "cell_type": "code",
   "execution_count": 14,
   "metadata": {},
   "outputs": [
    {
     "data": {
      "text/html": [
       "<div>\n",
       "<style scoped>\n",
       "    .dataframe tbody tr th:only-of-type {\n",
       "        vertical-align: middle;\n",
       "    }\n",
       "\n",
       "    .dataframe tbody tr th {\n",
       "        vertical-align: top;\n",
       "    }\n",
       "\n",
       "    .dataframe thead th {\n",
       "        text-align: right;\n",
       "    }\n",
       "</style>\n",
       "<table border=\"1\" class=\"dataframe\">\n",
       "  <thead>\n",
       "    <tr style=\"text-align: right;\">\n",
       "      <th></th>\n",
       "      <th>name</th>\n",
       "    </tr>\n",
       "    <tr>\n",
       "      <th>dataflow</th>\n",
       "      <th></th>\n",
       "    </tr>\n",
       "  </thead>\n",
       "  <tbody>\n",
       "    <tr>\n",
       "      <th>AME</th>\n",
       "      <td>AMECO</td>\n",
       "    </tr>\n",
       "    <tr>\n",
       "      <th>BKN</th>\n",
       "      <td>Banknotes statistics</td>\n",
       "    </tr>\n",
       "    <tr>\n",
       "      <th>BLS</th>\n",
       "      <td>Bank Lending Survey Statistics</td>\n",
       "    </tr>\n",
       "    <tr>\n",
       "      <th>BOP</th>\n",
       "      <td>Euro Area Balance of Payments and Internationa...</td>\n",
       "    </tr>\n",
       "    <tr>\n",
       "      <th>BSI</th>\n",
       "      <td>Balance Sheet Items</td>\n",
       "    </tr>\n",
       "    <tr>\n",
       "      <th>BSP</th>\n",
       "      <td>Balance Sheet Items Statistics (tables 2 to 5 ...</td>\n",
       "    </tr>\n",
       "    <tr>\n",
       "      <th>CBD</th>\n",
       "      <td>Statistics on Consolidated Banking Data</td>\n",
       "    </tr>\n",
       "    <tr>\n",
       "      <th>CBD2</th>\n",
       "      <td>Consolidated Banking data</td>\n",
       "    </tr>\n",
       "    <tr>\n",
       "      <th>CCP</th>\n",
       "      <td>Central Counterparty Clearing Statistics</td>\n",
       "    </tr>\n",
       "    <tr>\n",
       "      <th>CISS</th>\n",
       "      <td>Composite Indicator of Systemic Stress</td>\n",
       "    </tr>\n",
       "    <tr>\n",
       "      <th>CLIFS</th>\n",
       "      <td>Country-Level Index of Financial Stress (CLIFS)</td>\n",
       "    </tr>\n",
       "    <tr>\n",
       "      <th>CPP</th>\n",
       "      <td>Commercial Property Price Statistics</td>\n",
       "    </tr>\n",
       "    <tr>\n",
       "      <th>DCM</th>\n",
       "      <td>Dealogic DCM analytics data</td>\n",
       "    </tr>\n",
       "    <tr>\n",
       "      <th>DD</th>\n",
       "      <td>Derived Data</td>\n",
       "    </tr>\n",
       "    <tr>\n",
       "      <th>EON</th>\n",
       "      <td>EONIA: Euro Interbank Offered Rate</td>\n",
       "    </tr>\n",
       "    <tr>\n",
       "      <th>ESA</th>\n",
       "      <td>ESA95 National Accounts</td>\n",
       "    </tr>\n",
       "    <tr>\n",
       "      <th>ESB</th>\n",
       "      <td>European Union Balance of Payments (Source Eur...</td>\n",
       "    </tr>\n",
       "    <tr>\n",
       "      <th>EXR</th>\n",
       "      <td>Exchange Rates</td>\n",
       "    </tr>\n",
       "    <tr>\n",
       "      <th>FM</th>\n",
       "      <td>Financial market data</td>\n",
       "    </tr>\n",
       "    <tr>\n",
       "      <th>FVC</th>\n",
       "      <td>Financial Vehicle Corporation</td>\n",
       "    </tr>\n",
       "    <tr>\n",
       "      <th>GST</th>\n",
       "      <td>Government Statistics</td>\n",
       "    </tr>\n",
       "    <tr>\n",
       "      <th>ICB</th>\n",
       "      <td>Insurance Corporations Assets and Liabilities</td>\n",
       "    </tr>\n",
       "    <tr>\n",
       "      <th>ICP</th>\n",
       "      <td>Indices of Consumer prices</td>\n",
       "    </tr>\n",
       "    <tr>\n",
       "      <th>IFI</th>\n",
       "      <td>Indicators of Financial Integration</td>\n",
       "    </tr>\n",
       "    <tr>\n",
       "      <th>ILM</th>\n",
       "      <td>Internal Liquidity Management</td>\n",
       "    </tr>\n",
       "    <tr>\n",
       "      <th>IRS</th>\n",
       "      <td>Interest rate statistics</td>\n",
       "    </tr>\n",
       "    <tr>\n",
       "      <th>IVF</th>\n",
       "      <td>Investment Funds Balance Sheet Statistics</td>\n",
       "    </tr>\n",
       "    <tr>\n",
       "      <th>KRI</th>\n",
       "      <td>EBA Key Risk Indicators</td>\n",
       "    </tr>\n",
       "    <tr>\n",
       "      <th>LIG</th>\n",
       "      <td>Large Insurance Groups Statistics</td>\n",
       "    </tr>\n",
       "    <tr>\n",
       "      <th>MFI</th>\n",
       "      <td>List of MFIs</td>\n",
       "    </tr>\n",
       "    <tr>\n",
       "      <th>...</th>\n",
       "      <td>...</td>\n",
       "    </tr>\n",
       "    <tr>\n",
       "      <th>MMS</th>\n",
       "      <td>Money Market Survey</td>\n",
       "    </tr>\n",
       "    <tr>\n",
       "      <th>MMSR</th>\n",
       "      <td>Money Market Statistical Reporting</td>\n",
       "    </tr>\n",
       "    <tr>\n",
       "      <th>OFI</th>\n",
       "      <td>Other Financial Intermediaries</td>\n",
       "    </tr>\n",
       "    <tr>\n",
       "      <th>PFB</th>\n",
       "      <td>Pension Fund Assets and Liabilities</td>\n",
       "    </tr>\n",
       "    <tr>\n",
       "      <th>PSS</th>\n",
       "      <td>Payments and Settlement Systems Statistics</td>\n",
       "    </tr>\n",
       "    <tr>\n",
       "      <th>RA</th>\n",
       "      <td>International Reserves of the Eurosystem</td>\n",
       "    </tr>\n",
       "    <tr>\n",
       "      <th>RAI</th>\n",
       "      <td>Risk Assessment Indicators</td>\n",
       "    </tr>\n",
       "    <tr>\n",
       "      <th>RDE</th>\n",
       "      <td>Risk Dashboard data</td>\n",
       "    </tr>\n",
       "    <tr>\n",
       "      <th>RDF</th>\n",
       "      <td>Risk Dashboard data</td>\n",
       "    </tr>\n",
       "    <tr>\n",
       "      <th>RIR</th>\n",
       "      <td>Retail Interest Rates</td>\n",
       "    </tr>\n",
       "    <tr>\n",
       "      <th>RPP</th>\n",
       "      <td>Residential Property Price Index Statistics</td>\n",
       "    </tr>\n",
       "    <tr>\n",
       "      <th>RPV</th>\n",
       "      <td>Residential Property Valuation</td>\n",
       "    </tr>\n",
       "    <tr>\n",
       "      <th>RTD</th>\n",
       "      <td>Real Time Database (research database)</td>\n",
       "    </tr>\n",
       "    <tr>\n",
       "      <th>SAFE</th>\n",
       "      <td>Survey on the Access to Finance of SMEs</td>\n",
       "    </tr>\n",
       "    <tr>\n",
       "      <th>SEC</th>\n",
       "      <td>Securities</td>\n",
       "    </tr>\n",
       "    <tr>\n",
       "      <th>SEE</th>\n",
       "      <td>Securities exchange - Trading Statistics</td>\n",
       "    </tr>\n",
       "    <tr>\n",
       "      <th>SHI</th>\n",
       "      <td>Structural Housing Indicators Statistics</td>\n",
       "    </tr>\n",
       "    <tr>\n",
       "      <th>SHS</th>\n",
       "      <td>Securities Holding Statistics</td>\n",
       "    </tr>\n",
       "    <tr>\n",
       "      <th>SPF</th>\n",
       "      <td>Survey of Professional Forecasters</td>\n",
       "    </tr>\n",
       "    <tr>\n",
       "      <th>SSI</th>\n",
       "      <td>Banking structural statistical indicators</td>\n",
       "    </tr>\n",
       "    <tr>\n",
       "      <th>SSP</th>\n",
       "      <td>Structural Financial Indicators for Payments</td>\n",
       "    </tr>\n",
       "    <tr>\n",
       "      <th>SST</th>\n",
       "      <td>Securities Settlement Statistics</td>\n",
       "    </tr>\n",
       "    <tr>\n",
       "      <th>ST1</th>\n",
       "      <td>Balance of Payments statistics, national data</td>\n",
       "    </tr>\n",
       "    <tr>\n",
       "      <th>ST3</th>\n",
       "      <td>Euro Area Balance of Payments and Internationa...</td>\n",
       "    </tr>\n",
       "    <tr>\n",
       "      <th>STP</th>\n",
       "      <td>STEP data</td>\n",
       "    </tr>\n",
       "    <tr>\n",
       "      <th>STS</th>\n",
       "      <td>Short-Term Statistics</td>\n",
       "    </tr>\n",
       "    <tr>\n",
       "      <th>TGB</th>\n",
       "      <td>Target Balances</td>\n",
       "    </tr>\n",
       "    <tr>\n",
       "      <th>TRD</th>\n",
       "      <td>External Trade</td>\n",
       "    </tr>\n",
       "    <tr>\n",
       "      <th>WTS</th>\n",
       "      <td>Trade weights</td>\n",
       "    </tr>\n",
       "    <tr>\n",
       "      <th>YC</th>\n",
       "      <td>Financial market data - yield curve</td>\n",
       "    </tr>\n",
       "  </tbody>\n",
       "</table>\n",
       "<p>61 rows × 1 columns</p>\n",
       "</div>"
      ],
      "text/plain": [
       "                                                       name\n",
       "dataflow                                                   \n",
       "AME                                                   AMECO\n",
       "BKN                                    Banknotes statistics\n",
       "BLS                          Bank Lending Survey Statistics\n",
       "BOP       Euro Area Balance of Payments and Internationa...\n",
       "BSI                                     Balance Sheet Items\n",
       "BSP       Balance Sheet Items Statistics (tables 2 to 5 ...\n",
       "CBD                 Statistics on Consolidated Banking Data\n",
       "CBD2                              Consolidated Banking data\n",
       "CCP                Central Counterparty Clearing Statistics\n",
       "CISS                 Composite Indicator of Systemic Stress\n",
       "CLIFS       Country-Level Index of Financial Stress (CLIFS)\n",
       "CPP                    Commercial Property Price Statistics\n",
       "DCM                             Dealogic DCM analytics data\n",
       "DD                                             Derived Data\n",
       "EON                      EONIA: Euro Interbank Offered Rate\n",
       "ESA                                 ESA95 National Accounts\n",
       "ESB       European Union Balance of Payments (Source Eur...\n",
       "EXR                                          Exchange Rates\n",
       "FM                                    Financial market data\n",
       "FVC                           Financial Vehicle Corporation\n",
       "GST                                   Government Statistics\n",
       "ICB           Insurance Corporations Assets and Liabilities\n",
       "ICP                              Indices of Consumer prices\n",
       "IFI                     Indicators of Financial Integration\n",
       "ILM                           Internal Liquidity Management\n",
       "IRS                                Interest rate statistics\n",
       "IVF               Investment Funds Balance Sheet Statistics\n",
       "KRI                                 EBA Key Risk Indicators\n",
       "LIG                       Large Insurance Groups Statistics\n",
       "MFI                                            List of MFIs\n",
       "...                                                     ...\n",
       "MMS                                     Money Market Survey\n",
       "MMSR                     Money Market Statistical Reporting\n",
       "OFI                          Other Financial Intermediaries\n",
       "PFB                     Pension Fund Assets and Liabilities\n",
       "PSS              Payments and Settlement Systems Statistics\n",
       "RA                 International Reserves of the Eurosystem\n",
       "RAI                              Risk Assessment Indicators\n",
       "RDE                                     Risk Dashboard data\n",
       "RDF                                     Risk Dashboard data\n",
       "RIR                                   Retail Interest Rates\n",
       "RPP             Residential Property Price Index Statistics\n",
       "RPV                          Residential Property Valuation\n",
       "RTD                  Real Time Database (research database)\n",
       "SAFE                Survey on the Access to Finance of SMEs\n",
       "SEC                                              Securities\n",
       "SEE                Securities exchange - Trading Statistics\n",
       "SHI                Structural Housing Indicators Statistics\n",
       "SHS                           Securities Holding Statistics\n",
       "SPF                      Survey of Professional Forecasters\n",
       "SSI               Banking structural statistical indicators\n",
       "SSP            Structural Financial Indicators for Payments\n",
       "SST                        Securities Settlement Statistics\n",
       "ST1           Balance of Payments statistics, national data\n",
       "ST3       Euro Area Balance of Payments and Internationa...\n",
       "STP                                               STEP data\n",
       "STS                                   Short-Term Statistics\n",
       "TGB                                         Target Balances\n",
       "TRD                                          External Trade\n",
       "WTS                                           Trade weights\n",
       "YC                      Financial market data - yield curve\n",
       "\n",
       "[61 rows x 1 columns]"
      ]
     },
     "execution_count": 14,
     "metadata": {},
     "output_type": "execute_result"
    }
   ],
   "source": [
    "flow_response.write().dataflow"
   ]
  },
  {
   "cell_type": "code",
   "execution_count": 15,
   "metadata": {},
   "outputs": [],
   "source": [
    "exr_flow = ecb.dataflow('EXR')"
   ]
  },
  {
   "cell_type": "code",
   "execution_count": 16,
   "metadata": {},
   "outputs": [
    {
     "data": {
      "text/plain": [
       "'http://sdw-wsrest.ecb.int/service/dataflow/ECB/EXR/latest?references=all'"
      ]
     },
     "execution_count": 16,
     "metadata": {},
     "output_type": "execute_result"
    }
   ],
   "source": [
    "exr_flow.url"
   ]
  },
  {
   "cell_type": "code",
   "execution_count": 17,
   "metadata": {},
   "outputs": [
    {
     "data": {
      "text/plain": [
       "['__class__',\n",
       " '__delattr__',\n",
       " '__dict__',\n",
       " '__dir__',\n",
       " '__doc__',\n",
       " '__eq__',\n",
       " '__format__',\n",
       " '__ge__',\n",
       " '__getattribute__',\n",
       " '__gt__',\n",
       " '__hash__',\n",
       " '__init__',\n",
       " '__le__',\n",
       " '__lt__',\n",
       " '__module__',\n",
       " '__ne__',\n",
       " '__new__',\n",
       " '__reduce__',\n",
       " '__reduce_ex__',\n",
       " '__repr__',\n",
       " '__setattr__',\n",
       " '__sizeof__',\n",
       " '__str__',\n",
       " '__subclasshook__',\n",
       " '__weakref__',\n",
       " '_attr_codes',\n",
       " '_attr_ids',\n",
       " '_categorisation',\n",
       " '_constrainables',\n",
       " '_constrained_codes',\n",
       " '_content_types',\n",
       " '_dim_codes',\n",
       " '_dim_ids',\n",
       " '_elem',\n",
       " '_in_codes',\n",
       " '_in_constraints',\n",
       " '_reader',\n",
       " 'codelist',\n",
       " 'conceptscheme',\n",
       " 'constraint',\n",
       " 'dataflow',\n",
       " 'datastructure',\n",
       " 'header',\n",
       " 'in_codes',\n",
       " 'in_constraints']"
      ]
     },
     "execution_count": 17,
     "metadata": {},
     "output_type": "execute_result"
    }
   ],
   "source": [
    "dir(exr_flow.msg)"
   ]
  },
  {
   "cell_type": "markdown",
   "metadata": {},
   "source": [
    "Show the datastructure definition referred to by the dataflow"
   ]
  },
  {
   "cell_type": "code",
   "execution_count": 18,
   "metadata": {},
   "outputs": [],
   "source": [
    "dsd = exr_flow.dataflow.EXR.structure()"
   ]
  },
  {
   "cell_type": "code",
   "execution_count": 19,
   "metadata": {},
   "outputs": [
    {
     "data": {
      "text/plain": [
       "DataStructureDefinition | ECB_EXR1 | Exchange Rates"
      ]
     },
     "execution_count": 19,
     "metadata": {},
     "output_type": "execute_result"
    }
   ],
   "source": [
    "dsd"
   ]
  },
  {
   "cell_type": "code",
   "execution_count": 24,
   "metadata": {},
   "outputs": [
    {
     "data": {
      "text/plain": [
       "[Dimension | FREQ,\n",
       " Dimension | CURRENCY,\n",
       " Dimension | CURRENCY_DENOM,\n",
       " Dimension | EXR_TYPE,\n",
       " Dimension | EXR_SUFFIX,\n",
       " TimeDimension | TIME_PERIOD]"
      ]
     },
     "execution_count": 24,
     "metadata": {},
     "output_type": "execute_result"
    }
   ],
   "source": [
    "dsd.dimensions.aslist()"
   ]
  },
  {
   "cell_type": "code",
   "execution_count": 25,
   "metadata": {},
   "outputs": [
    {
     "data": {
      "text/plain": [
       "[DataAttribute | BREAKS,\n",
       " DataAttribute | COLLECTION,\n",
       " DataAttribute | COMPILATION,\n",
       " DataAttribute | COMPILING_ORG,\n",
       " DataAttribute | COVERAGE,\n",
       " DataAttribute | DECIMALS,\n",
       " DataAttribute | DISS_ORG,\n",
       " DataAttribute | DOM_SER_IDS,\n",
       " DataAttribute | NAT_TITLE,\n",
       " DataAttribute | OBS_COM,\n",
       " DataAttribute | OBS_CONF,\n",
       " DataAttribute | OBS_PRE_BREAK,\n",
       " DataAttribute | OBS_STATUS,\n",
       " DataAttribute | PUBL_ECB,\n",
       " DataAttribute | PUBL_MU,\n",
       " DataAttribute | PUBL_PUBLIC,\n",
       " DataAttribute | SOURCE_AGENCY,\n",
       " DataAttribute | SOURCE_PUB,\n",
       " DataAttribute | TIME_FORMAT,\n",
       " DataAttribute | TITLE,\n",
       " DataAttribute | TITLE_COMPL,\n",
       " DataAttribute | UNIT,\n",
       " DataAttribute | UNIT_INDEX_BASE,\n",
       " DataAttribute | UNIT_MULT]"
      ]
     },
     "execution_count": 25,
     "metadata": {},
     "output_type": "execute_result"
    }
   ],
   "source": [
    "dsd.attributes.aslist()"
   ]
  },
  {
   "cell_type": "markdown",
   "metadata": {},
   "source": [
    "Show a codelist referenced by a dimension. It contains a superset of the allowed values."
   ]
  },
  {
   "cell_type": "code",
   "execution_count": 26,
   "metadata": {},
   "outputs": [
    {
     "data": {
      "text/plain": [
       "Codelist | CL_FREQ | Frequency code list"
      ]
     },
     "execution_count": 26,
     "metadata": {},
     "output_type": "execute_result"
    }
   ],
   "source": [
    "dsd.dimensions.FREQ.local_repr.enum()"
   ]
  },
  {
   "cell_type": "code",
   "execution_count": 27,
   "metadata": {},
   "outputs": [
    {
     "data": {
      "text/plain": [
       "Codelist | CL_CURRENCY | Currency code list"
      ]
     },
     "execution_count": 27,
     "metadata": {},
     "output_type": "execute_result"
    }
   ],
   "source": [
    "dsd.dimensions.CURRENCY.local_repr.enum()"
   ]
  },
  {
   "cell_type": "code",
   "execution_count": 40,
   "metadata": {},
   "outputs": [
    {
     "data": {
      "text/html": [
       "<div>\n",
       "<style scoped>\n",
       "    .dataframe tbody tr th:only-of-type {\n",
       "        vertical-align: middle;\n",
       "    }\n",
       "\n",
       "    .dataframe tbody tr th {\n",
       "        vertical-align: top;\n",
       "    }\n",
       "\n",
       "    .dataframe thead th {\n",
       "        text-align: right;\n",
       "    }\n",
       "</style>\n",
       "<table border=\"1\" class=\"dataframe\">\n",
       "  <thead>\n",
       "    <tr style=\"text-align: right;\">\n",
       "      <th></th>\n",
       "      <th>dim_or_attr</th>\n",
       "      <th>name</th>\n",
       "    </tr>\n",
       "  </thead>\n",
       "  <tbody>\n",
       "    <tr>\n",
       "      <th>CURRENCY_DENOM</th>\n",
       "      <td>D</td>\n",
       "      <td>Currency denominator</td>\n",
       "    </tr>\n",
       "    <tr>\n",
       "      <th>ARS</th>\n",
       "      <td>D</td>\n",
       "      <td>Argentine peso</td>\n",
       "    </tr>\n",
       "    <tr>\n",
       "      <th>ATS</th>\n",
       "      <td>D</td>\n",
       "      <td>Austrian schilling</td>\n",
       "    </tr>\n",
       "    <tr>\n",
       "      <th>AUD</th>\n",
       "      <td>D</td>\n",
       "      <td>Australian dollar</td>\n",
       "    </tr>\n",
       "    <tr>\n",
       "      <th>BEF</th>\n",
       "      <td>D</td>\n",
       "      <td>Belgian franc</td>\n",
       "    </tr>\n",
       "  </tbody>\n",
       "</table>\n",
       "</div>"
      ],
      "text/plain": [
       "               dim_or_attr                  name\n",
       "CURRENCY_DENOM           D  Currency denominator\n",
       "ARS                      D        Argentine peso\n",
       "ATS                      D    Austrian schilling\n",
       "AUD                      D     Australian dollar\n",
       "BEF                      D         Belgian franc"
      ]
     },
     "execution_count": 40,
     "metadata": {},
     "output_type": "execute_result"
    }
   ],
   "source": [
    "exr_flow.write().codelist.loc['CURRENCY_DENOM'].head()"
   ]
  },
  {
   "cell_type": "code",
   "execution_count": 35,
   "metadata": {},
   "outputs": [
    {
     "ename": "TypeError",
     "evalue": "'method' object is not subscriptable",
     "output_type": "error",
     "traceback": [
      "\u001b[0;31m---------------------------------------------------------------------------\u001b[0m",
      "\u001b[0;31mTypeError\u001b[0m                                 Traceback (most recent call last)",
      "\u001b[0;32m<ipython-input-35-6543f62db6ba>\u001b[0m in \u001b[0;36m<module>\u001b[0;34m\u001b[0m\n\u001b[0;32m----> 1\u001b[0;31m \u001b[0mdsd\u001b[0m\u001b[0;34m.\u001b[0m\u001b[0mdimensions\u001b[0m\u001b[0;34m.\u001b[0m\u001b[0maslist\u001b[0m\u001b[0;34m[\u001b[0m\u001b[0;36m1\u001b[0m\u001b[0;34m]\u001b[0m\u001b[0;34m\u001b[0m\u001b[0m\n\u001b[0m",
      "\u001b[0;31mTypeError\u001b[0m: 'method' object is not subscriptable"
     ]
    }
   ],
   "source": [
    "dsd.dimensions.aslist[1]"
   ]
  }
 ],
 "metadata": {
  "kernelspec": {
   "display_name": "Python py35)",
   "language": "python",
   "name": "py35"
  },
  "language_info": {
   "codemirror_mode": {
    "name": "ipython",
    "version": 3
   },
   "file_extension": ".py",
   "mimetype": "text/x-python",
   "name": "python",
   "nbconvert_exporter": "python",
   "pygments_lexer": "ipython3",
   "version": "3.5.5"
  }
 },
 "nbformat": 4,
 "nbformat_minor": 2
}
